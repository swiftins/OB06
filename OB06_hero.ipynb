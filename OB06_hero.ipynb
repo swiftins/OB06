{
 "cells": [
  {
   "cell_type": "code",
   "execution_count": 7,
   "metadata": {},
   "outputs": [],
   "source": [
    "\"\"\"Класс `Hero`:Атрибуты:Имя (`name`)\n",
    " Здоровье (`health`), начальное значение 100\n",
    "Сила удара (`attack_power`), начальное значение 20\n",
    "Методы:attack(other)`: атакует другого героя (`other`), отнимая здоровье в размере своей силы удара\n",
    "`is_alive()`: возвращает `True`, если здоровье героя больше 0, иначе `False`\"\"\"\n",
    "\n",
    "\"\"\"Класс `Game`:Атрибуты:\n",
    "Игрок (`player`), экземпляр класса `Hero`\n",
    "Компьютер (`computer`), экземпляр класса `Hero`\n",
    "Методы:\n",
    "`start()`: начинает игру, чередует ходы игрока и компьютера, пока один из героев не умрет\"\"\"\n",
    "\n",
    "class Hero:\n",
    "    def __init__(self, name, health=100, attack_power=20):\n",
    "        self.name = name\n",
    "        self.health = health\n",
    "        self.attack_power = attack_power\n",
    "\n",
    "    def attack(self, other):\n",
    "        other.health -= self.attack_power\n",
    "        print(f\"{self.name} атакует {other.name} и наносит {self.attack_power} урона.\")\n",
    "\n",
    "    def is_alive(self):\n",
    "        return self.health > 0"
   ]
  }
 ],
 "metadata": {
  "kernelspec": {
   "display_name": "base",
   "language": "python",
   "name": "python3"
  },
  "language_info": {
   "codemirror_mode": {
    "name": "ipython",
    "version": 3
   },
   "file_extension": ".py",
   "mimetype": "text/x-python",
   "name": "python",
   "nbconvert_exporter": "python",
   "pygments_lexer": "ipython3",
   "version": "3.12.7"
  }
 },
 "nbformat": 4,
 "nbformat_minor": 2
}
