{
 "cells": [
  {
   "cell_type": "code",
   "execution_count": 3,
   "metadata": {},
   "outputs": [],
   "source": [
    "\"\"\"Выводит информацию о каждом ходе (кто атаковал и сколько здоровья осталось у противника) \n",
    "и объявляет победителя.\"\"\"\n",
    "\n",
    "def start(self):\n",
    "        print(\"Игра начинается!\")\n",
    "        while self.player.is_alive() and self.computer.is_alive():\n",
    "            self.round()\n",
    "        self.declare_winner()\n",
    "\n",
    "def round(self):\n",
    "        self.player.attack(self.computer)\n",
    "        if not self.computer.is_alive():\n",
    "            return\n",
    "        print(f\"У {self.computer.name} осталось {self.computer.health} здоровья.\")\n",
    "        \n",
    "        self.computer.attack(self.player)\n",
    "        if self.player.is_alive():\n",
    "            print(f\"У {self.player.name} осталось {self.player.health} здоровья.\")\n",
    "\n",
    "def declare_winner(self):\n",
    "        if self.player.is_alive():\n",
    "            print(f\"{self.player.name} победил!\")\n",
    "        else:\n",
    "            print(f\"{self.computer.name} победил!\")\n"
   ]
  }
 ],
 "metadata": {
  "kernelspec": {
   "display_name": "base",
   "language": "python",
   "name": "python3"
  },
  "language_info": {
   "codemirror_mode": {
    "name": "ipython",
    "version": 3
   },
   "file_extension": ".py",
   "mimetype": "text/x-python",
   "name": "python",
   "nbconvert_exporter": "python",
   "pygments_lexer": "ipython3",
   "version": "3.12.7"
  }
 },
 "nbformat": 4,
 "nbformat_minor": 2
}
