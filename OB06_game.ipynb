{
 "cells": [
  {
   "cell_type": "code",
   "execution_count": 3,
   "metadata": {},
   "outputs": [],
   "source": [
    "\"\"\"Класс `Game`:Атрибуты:\n",
    "Игрок (`player`), экземпляр класса `Hero`\n",
    "Компьютер (`computer`), экземпляр класса `Hero`\n",
    "Методы:\n",
    "`start()`: начинает игру, чередует ходы игрока и компьютера, пока один из героев не умрет\"\"\"\n",
    "\n",
    "class Game:\n",
    "    def __init__(self, player_name):\n",
    "        self.player = Hero(player_name)\n",
    "        self.computer = Hero(\"Компьютер\")\n",
    "\n",
    "    def start(self):\n",
    "        print(\"Игра начинается!\")\n",
    "        while self.player.is_alive() and self.computer.is_alive():\n",
    "            self.round()\n",
    "        self.declare_winner()\n",
    "\n",
    "\n"
   ]
  }
 ],
 "metadata": {
  "kernelspec": {
   "display_name": "base",
   "language": "python",
   "name": "python3"
  },
  "language_info": {
   "codemirror_mode": {
    "name": "ipython",
    "version": 3
   },
   "file_extension": ".py",
   "mimetype": "text/x-python",
   "name": "python",
   "nbconvert_exporter": "python",
   "pygments_lexer": "ipython3",
   "version": "3.12.7"
  }
 },
 "nbformat": 4,
 "nbformat_minor": 2
}
